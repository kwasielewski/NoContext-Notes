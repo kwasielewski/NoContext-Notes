{
 "cells": [
  {
   "cell_type": "markdown",
   "metadata": {},
   "source": [
    "A cute little demo showing the simplest usage of minGPT. Configured to run fine on Macbook Air in like a minute."
   ]
  },
  {
   "cell_type": "code",
   "execution_count": 1,
   "metadata": {},
   "outputs": [],
   "source": [
    "import torch\n",
    "from torch.utils.data import Dataset\n",
    "from torch.utils.data.dataloader import DataLoader\n",
    "from mingpt.utils import set_seed\n",
    "import random\n",
    "from mingpt.model import GPT\n",
    "from mingpt.trainer import Trainer\n",
    "import pickle\n",
    "\n",
    "\n",
    "set_seed(3407)"
   ]
  },
  {
   "cell_type": "code",
   "execution_count": 2,
   "metadata": {},
   "outputs": [],
   "source": [
    "\n",
    "class SortDataset(Dataset):\n",
    "    \"\"\" \n",
    "    Dataset for the Sort problem. E.g. for problem length 6:\n",
    "    Input: 0 0 2 1 0 1 -> Output: 0 0 0 1 1 2\n",
    "    Which will feed into the transformer concatenated as:\n",
    "    input:  0 0 2 1 0 1 0 0 0 1 1\n",
    "    output: I I I I I 0 0 0 1 1 2\n",
    "    where I is \"ignore\", as the transformer is reading the input sequence\n",
    "    \"\"\"\n",
    "\n",
    "    def __init__(self, split, length=6, num_digits=3):\n",
    "        assert split in {'train', 'test'}\n",
    "        self.split = split\n",
    "        self.length = length\n",
    "        self.num_digits = num_digits\n",
    "    \n",
    "    def __len__(self):\n",
    "        return 10000 # ...\n",
    "    \n",
    "    def get_vocab_size(self):\n",
    "        return self.num_digits\n",
    "    \n",
    "    def get_block_size(self):\n",
    "        # the length of the sequence that will feed into transformer, \n",
    "        # containing concatenated input and the output, but -1 because\n",
    "        # the transformer starts making predictions at the last input element\n",
    "        return self.length * 2 - 1\n",
    "\n",
    "    def __getitem__(self, idx):\n",
    "        \n",
    "        # use rejection sampling to generate an input example from the desired split\n",
    "        while True:\n",
    "            # generate some random integers\n",
    "            inp = torch.randint(self.num_digits, size=(self.length,), dtype=torch.long)\n",
    "            # half of the time let's try to boost the number of examples that \n",
    "            # have a large number of repeats, as this is what the model seems to struggle\n",
    "            # with later in training, and they are kind of rate\n",
    "            if torch.rand(1).item() < 0.5:\n",
    "                if inp.unique().nelement() > self.length // 2:\n",
    "                    # too many unqiue digits, re-sample\n",
    "                    continue\n",
    "            # figure out if this generated example is train or test based on its hash\n",
    "            h = hash(pickle.dumps(inp.tolist()))\n",
    "            inp_split = 'test' if h % 4 == 0 else 'train' # designate 25% of examples as test\n",
    "            if inp_split == self.split:\n",
    "                break # ok\n",
    "        \n",
    "        # solve the task: i.e. sort\n",
    "        sol = torch.sort(inp)[0]\n",
    "\n",
    "        # concatenate the problem specification and the solution\n",
    "        cat = torch.cat((inp, sol), dim=0)\n",
    "\n",
    "        # the inputs to the transformer will be the offset sequence\n",
    "        x = cat[:-1].clone()\n",
    "        y = cat[1:].clone()\n",
    "        # we only want to predict at output locations, mask out the loss at the input locations\n",
    "        y[:self.length-1] = -1\n",
    "        return x, y\n"
   ]
  },
  {
   "cell_type": "code",
   "execution_count": 16,
   "metadata": {},
   "outputs": [
    {
     "name": "stdout",
     "output_type": "stream",
     "text": [
      "[6, 9, 2, 3, 2, 3, 2, 2, 3, 5, 1, 6]\n",
      "[8, 9, 7, 3, 6, 8, 3, 3, 0, 0, 9, 6]\n",
      "[8, 7, 0, 1, 7, 6, 1, 5, 3, 1, 2, 0]\n",
      "[3, 2, 0, 5, 3, 9, 1, 7, 2, 4, 8, 0]\n",
      "[5, 6, 5, 9, 8, 0, 5, 5, 3, 7, 0, 0]\n",
      "[8, 7, 7, 6, 3, 5, 5, 5, 6, 8, 9, 5]\n",
      "[9, 9, 3, 8, 1, 5, 8, 0, 9, 2, 9, 5]\n",
      "[3, 2, 1, 4, 9, 5, 1, 5, 8, 8, 9, 5]\n",
      "[9, 7, 5, 2, 9, 3, 2, 8, 5, 6, 7, 5]\n",
      "[7, 2, 6, 7, 9, 4, 5, 7, 6, 4, 4, 4]\n"
     ]
    }
   ],
   "source": [
    "\n",
    "def random_mul_instance(length):\n",
    "    a = [random.randint(0,9) for i in range(length)]\n",
    "    b = [random.randint(0,9) for i in range(length)]\n",
    "    val_a = int(''.join(str(d) for d in a))\n",
    "    val_b = int(''.join(str(d) for d in b))\n",
    "    val_c = val_a * val_b\n",
    "    str_c = str(val_c)\n",
    "    str_c = (length * 2 - len(str_c)) * '0' + str_c\n",
    "    return a + b + [int(d) for d in str_c]\n",
    "\n",
    "for i in range(10):\n",
    "    print (random_mul_instance(3))"
   ]
  },
  {
   "cell_type": "code",
   "execution_count": 49,
   "metadata": {},
   "outputs": [],
   "source": [
    "class MultDataset(Dataset):\n",
    "    \"\"\" \n",
    "    Dataset for the Mult problem. E.g. for problem length 3:\n",
    "    12 * 333 = 3996\n",
    "    Input: 0 1 2 3 3 3 -> Output: 0 0 3 9 9 6\n",
    "    Which will feed into the transformer concatenated as:\n",
    "    input:  0 1 2 3 3 3 0 3 4\n",
    "    output: I I I 0 0 3 9 9 6\n",
    "    where I is \"ignore\", as the transformer is reading the input sequence\n",
    "    \"\"\"\n",
    "\n",
    "    def __init__(self, split, length=3):\n",
    "        assert split in {'train', 'test'}\n",
    "        self.split = split\n",
    "        self.length = length\n",
    "    \n",
    "    def __len__(self):\n",
    "        return 30000 # ...\n",
    "    \n",
    "    def get_vocab_size(self):\n",
    "        return 12\n",
    "    \n",
    "    def get_block_size(self):\n",
    "        # the length of the sequence that will feed into transformer, \n",
    "        # containing concatenated input and the output, but -1 because\n",
    "        # the transformer starts making predictions at the last input element\n",
    "        return 2 * self.length + 2 * self.length - 1\n",
    "\n",
    "    def __getitem__(self, idx):\n",
    "        while True:\n",
    "            rai = random_mul_instance(self.length)\n",
    "            h = hash(str(rai[:2*self.length]))\n",
    "            \n",
    "            inp_split = 'test' if h % 4 == 0 else 'train' # designate 25% of examples as test\n",
    "            if inp_split == self.split:\n",
    "                break # ok\n",
    "        \n",
    "        x = torch.tensor(rai[:-1], dtype=torch.long)\n",
    "        y = torch.tensor(rai[1:], dtype=torch.long)\n",
    "        \n",
    "        # we only want to predict at output locations, mask out the loss at the input locations\n",
    "        y[:2*self.length - 1] = -1\n",
    "        return x, y"
   ]
  },
  {
   "cell_type": "code",
   "execution_count": 50,
   "metadata": {},
   "outputs": [
    {
     "name": "stdout",
     "output_type": "stream",
     "text": [
      "30000\n",
      "tensor([7, 0, 7, 5, 3, 2, 3, 7, 6, 1, 2])\n",
      "7 -1\n",
      "0 -1\n",
      "7 -1\n",
      "5 -1\n",
      "3 -1\n",
      "2 3\n",
      "3 7\n",
      "7 6\n",
      "6 1\n",
      "1 2\n",
      "2 4\n"
     ]
    }
   ],
   "source": [
    "# print an example instance of the dataset\n",
    "train_dataset = MultDataset('train')\n",
    "test_dataset = MultDataset('test')\n",
    "x, y = train_dataset[0]\n",
    "\n",
    "print(len(train_dataset))\n",
    "\n",
    "print (x)\n",
    "for a, b in zip(x,y):\n",
    "    print(int(a),int(b))"
   ]
  },
  {
   "cell_type": "code",
   "execution_count": 51,
   "metadata": {},
   "outputs": [
    {
     "name": "stdout",
     "output_type": "stream",
     "text": [
      "number of parameters: 0.80M\n"
     ]
    }
   ],
   "source": [
    "# create a GPT instance\n",
    "\n",
    "model_config = GPT.get_default_config()\n",
    "model_config.model_type = 'gpt-micro'\n",
    "#model_config.model_type = 'gpt-nano'\n",
    "\n",
    "model_config.vocab_size = train_dataset.get_vocab_size()\n",
    "model_config.block_size = train_dataset.get_block_size()\n",
    "model = GPT(model_config)"
   ]
  },
  {
   "cell_type": "code",
   "execution_count": 52,
   "metadata": {},
   "outputs": [
    {
     "name": "stdout",
     "output_type": "stream",
     "text": [
      "4 4 128\n"
     ]
    }
   ],
   "source": [
    "print (model_config.n_head, model_config.n_layer, model_config.n_embd)"
   ]
  },
  {
   "cell_type": "code",
   "execution_count": 53,
   "metadata": {},
   "outputs": [
    {
     "name": "stdout",
     "output_type": "stream",
     "text": [
      "running on device cuda\n"
     ]
    }
   ],
   "source": [
    "# create a Trainer object\n",
    "\n",
    "train_config = Trainer.get_default_config()\n",
    "train_config.learning_rate = 5e-4 # the model we're using is so small that we can go a bit faster\n",
    "train_config.max_iters = 10000\n",
    "train_config.num_workers = 0\n",
    "trainer = Trainer(train_config, model, train_dataset)"
   ]
  },
  {
   "cell_type": "code",
   "execution_count": 54,
   "metadata": {},
   "outputs": [
    {
     "name": "stdout",
     "output_type": "stream",
     "text": [
      "iter_dt 0.00ms; iter 0: train loss 2.50639\n",
      "iter_dt 13.18ms; iter 100: train loss 1.87751\n",
      "iter_dt 11.01ms; iter 200: train loss 1.77292\n",
      "iter_dt 11.07ms; iter 300: train loss 1.75499\n",
      "iter_dt 11.15ms; iter 400: train loss 1.71079\n",
      "iter_dt 12.94ms; iter 500: train loss 1.62218\n",
      "iter_dt 10.89ms; iter 600: train loss 1.58352\n",
      "iter_dt 10.98ms; iter 700: train loss 1.58070\n",
      "iter_dt 11.10ms; iter 800: train loss 1.58736\n",
      "iter_dt 11.98ms; iter 900: train loss 1.58493\n",
      "iter_dt 21.06ms; iter 1000: train loss 1.51586\n",
      "iter_dt 20.27ms; iter 1100: train loss 1.53417\n",
      "iter_dt 13.52ms; iter 1200: train loss 1.48563\n",
      "iter_dt 13.48ms; iter 1300: train loss 1.53177\n",
      "iter_dt 17.66ms; iter 1400: train loss 1.53807\n",
      "iter_dt 16.80ms; iter 1500: train loss 1.50627\n",
      "iter_dt 13.69ms; iter 1600: train loss 1.56247\n",
      "iter_dt 16.38ms; iter 1700: train loss 1.49763\n",
      "iter_dt 12.06ms; iter 1800: train loss 1.49411\n",
      "iter_dt 14.20ms; iter 1900: train loss 1.45839\n",
      "iter_dt 12.42ms; iter 2000: train loss 1.51186\n",
      "iter_dt 13.39ms; iter 2100: train loss 1.47758\n",
      "iter_dt 15.86ms; iter 2200: train loss 1.44124\n",
      "iter_dt 13.52ms; iter 2300: train loss 1.44001\n",
      "iter_dt 14.24ms; iter 2400: train loss 1.42349\n",
      "iter_dt 14.04ms; iter 2500: train loss 1.38306\n",
      "iter_dt 12.74ms; iter 2600: train loss 1.52283\n",
      "iter_dt 13.14ms; iter 2700: train loss 1.38046\n",
      "iter_dt 11.29ms; iter 2800: train loss 1.41205\n",
      "iter_dt 14.16ms; iter 2900: train loss 1.45908\n",
      "iter_dt 14.49ms; iter 3000: train loss 1.48615\n",
      "iter_dt 18.30ms; iter 3100: train loss 1.42860\n",
      "iter_dt 13.18ms; iter 3200: train loss 1.39203\n",
      "iter_dt 14.66ms; iter 3300: train loss 1.39692\n",
      "iter_dt 12.97ms; iter 3400: train loss 1.40931\n",
      "iter_dt 12.36ms; iter 3500: train loss 1.44612\n",
      "iter_dt 11.55ms; iter 3600: train loss 1.36402\n",
      "iter_dt 11.57ms; iter 3700: train loss 1.37434\n",
      "iter_dt 11.16ms; iter 3800: train loss 1.39014\n",
      "iter_dt 12.72ms; iter 3900: train loss 1.35943\n",
      "iter_dt 12.07ms; iter 4000: train loss 1.39546\n",
      "iter_dt 13.57ms; iter 4100: train loss 1.33638\n",
      "iter_dt 12.37ms; iter 4200: train loss 1.37334\n",
      "iter_dt 13.24ms; iter 4300: train loss 1.30160\n",
      "iter_dt 12.93ms; iter 4400: train loss 1.39884\n",
      "iter_dt 13.40ms; iter 4500: train loss 1.30010\n",
      "iter_dt 12.54ms; iter 4600: train loss 1.32762\n",
      "iter_dt 14.31ms; iter 4700: train loss 1.33862\n",
      "iter_dt 13.81ms; iter 4800: train loss 1.35790\n",
      "iter_dt 13.13ms; iter 4900: train loss 1.31244\n",
      "iter_dt 12.13ms; iter 5000: train loss 1.33651\n",
      "iter_dt 11.80ms; iter 5100: train loss 1.32405\n",
      "iter_dt 11.60ms; iter 5200: train loss 1.31986\n",
      "iter_dt 11.16ms; iter 5300: train loss 1.28550\n",
      "iter_dt 11.16ms; iter 5400: train loss 1.32243\n",
      "iter_dt 11.13ms; iter 5500: train loss 1.26782\n",
      "iter_dt 11.91ms; iter 5600: train loss 1.28733\n",
      "iter_dt 14.17ms; iter 5700: train loss 1.20778\n",
      "iter_dt 11.50ms; iter 5800: train loss 1.29132\n",
      "iter_dt 11.86ms; iter 5900: train loss 1.23105\n",
      "iter_dt 11.61ms; iter 6000: train loss 1.27683\n",
      "iter_dt 11.29ms; iter 6100: train loss 1.24467\n",
      "iter_dt 11.34ms; iter 6200: train loss 1.29172\n",
      "iter_dt 12.57ms; iter 6300: train loss 1.18122\n",
      "iter_dt 11.15ms; iter 6400: train loss 1.26377\n",
      "iter_dt 11.43ms; iter 6500: train loss 1.21049\n",
      "iter_dt 11.91ms; iter 6600: train loss 1.27516\n",
      "iter_dt 11.78ms; iter 6700: train loss 1.18535\n",
      "iter_dt 11.10ms; iter 6800: train loss 1.27622\n",
      "iter_dt 11.67ms; iter 6900: train loss 1.22235\n",
      "iter_dt 11.59ms; iter 7000: train loss 1.16658\n",
      "iter_dt 11.44ms; iter 7100: train loss 1.21926\n",
      "iter_dt 11.35ms; iter 7200: train loss 1.21854\n",
      "iter_dt 12.61ms; iter 7300: train loss 1.17744\n",
      "iter_dt 12.72ms; iter 7400: train loss 1.18104\n",
      "iter_dt 11.93ms; iter 7500: train loss 1.20301\n",
      "iter_dt 12.03ms; iter 7600: train loss 1.18335\n",
      "iter_dt 12.56ms; iter 7700: train loss 1.21847\n",
      "iter_dt 11.93ms; iter 7800: train loss 1.21599\n",
      "iter_dt 11.90ms; iter 7900: train loss 1.21507\n",
      "iter_dt 11.73ms; iter 8000: train loss 1.10851\n",
      "iter_dt 11.84ms; iter 8100: train loss 1.13487\n",
      "iter_dt 12.50ms; iter 8200: train loss 1.13134\n",
      "iter_dt 11.41ms; iter 8300: train loss 1.22888\n",
      "iter_dt 11.32ms; iter 8400: train loss 1.18209\n",
      "iter_dt 11.22ms; iter 8500: train loss 1.13993\n",
      "iter_dt 11.10ms; iter 8600: train loss 1.09332\n",
      "iter_dt 12.78ms; iter 8700: train loss 1.22013\n",
      "iter_dt 11.49ms; iter 8800: train loss 1.18707\n",
      "iter_dt 11.31ms; iter 8900: train loss 1.12924\n",
      "iter_dt 11.28ms; iter 9000: train loss 1.11835\n",
      "iter_dt 11.82ms; iter 9100: train loss 1.15611\n",
      "iter_dt 14.22ms; iter 9200: train loss 1.11851\n",
      "iter_dt 14.89ms; iter 9300: train loss 1.12851\n",
      "iter_dt 14.76ms; iter 9400: train loss 1.07886\n",
      "iter_dt 25.44ms; iter 9500: train loss 1.11044\n",
      "iter_dt 17.94ms; iter 9600: train loss 1.14243\n",
      "iter_dt 16.31ms; iter 9700: train loss 1.11476\n",
      "iter_dt 16.39ms; iter 9800: train loss 1.13948\n",
      "iter_dt 15.26ms; iter 9900: train loss 1.08350\n"
     ]
    }
   ],
   "source": [
    "def batch_end_callback(trainer):\n",
    "    if trainer.iter_num % 100 == 0:\n",
    "        print(f\"iter_dt {trainer.iter_dt * 1000:.2f}ms; iter {trainer.iter_num}: train loss {trainer.loss.item():.5f}\")\n",
    "trainer.set_callback('on_batch_end', batch_end_callback)\n",
    "\n",
    "trainer.run()"
   ]
  },
  {
   "cell_type": "code",
   "execution_count": 55,
   "metadata": {},
   "outputs": [],
   "source": [
    "# now let's perform some evaluation\n",
    "model.eval()\n",
    "None"
   ]
  },
  {
   "cell_type": "code",
   "execution_count": 56,
   "metadata": {},
   "outputs": [
    {
     "name": "stdout",
     "output_type": "stream",
     "text": [
      "train final score: 358/30000 = 1.19% correct\n",
      "test final score: 370/30000 = 1.23% correct\n"
     ]
    }
   ],
   "source": [
    "def eval_add_split(trainer, split, max_batches):\n",
    "    dataset = {'train':train_dataset, 'test':test_dataset}[split]\n",
    "    n = train_dataset.length # naugy direct access shrug\n",
    "    results = []\n",
    "    mistakes_printed_already = 0\n",
    "    loader = DataLoader(dataset, batch_size=100, num_workers=0, drop_last=False)\n",
    "    #loader = DataLoader(dataset, batch_size=1, num_workers=0, drop_last=False)\n",
    "    for b, (x, y) in enumerate(loader):\n",
    "        x = x.to(trainer.device)\n",
    "        y = y.to(trainer.device)\n",
    "\n",
    "        inp = x[:, :2*n]\n",
    "        sol = y[:, -2*n:]\n",
    "        \n",
    "        cat = model.generate(inp, 2*n, do_sample=False) # using greedy argmax, not sampling\n",
    "        sol_candidate = cat[:, -2*n:]         \n",
    "        correct = (sol == sol_candidate).all(1).cpu() \n",
    "        for i in range(x.size(0)):\n",
    "            results.append(int(correct[i]))\n",
    "    \n",
    "    rt = torch.tensor(results, dtype=torch.float)\n",
    "    print(\"%s final score: %d/%d = %.2f%% correct\" % (split, rt.sum(), len(results), 100*rt.mean()))\n",
    "    return rt.sum()\n",
    "\n",
    "# run a lot of examples from both train and test through the model and verify the output correctness\n",
    "with torch.no_grad():\n",
    "    train_score = eval_add_split(trainer, 'train', max_batches=50)\n",
    "    test_score  = eval_add_split(trainer, 'test',  max_batches=50)"
   ]
  },
  {
   "cell_type": "code",
   "execution_count": 11,
   "metadata": {},
   "outputs": [
    {
     "name": "stdout",
     "output_type": "stream",
     "text": [
      "[8, 1, 4, 9, 4, 0, 0, 0, 0, 0, 3, 2, 5, 6, 0, 7, 3, 2, 6, 0, 0, 7, 6, 5, 1, 6, 0]\n",
      "[2, 1, 5, 0, 7, 1, 0, 2, 1, 5, 1, 5, 0, 5, 0, 0, 0, 0, 0, 0, 0, 0, 1, 5, 2, 6, 5]\n",
      "[9, 2, 2, 2, 0, 1, 0, 9, 2, 2, 0, 0, 0, 0, 0, 1, 8, 4, 4, 0, 0, 1, 8, 5, 3, 2, 2]\n",
      "[9, 7, 8, 4, 8, 7, 6, 8, 4, 6, 7, 8, 2, 4, 0, 3, 9, 1, 2, 0, 0, 4, 7, 6, 2, 8, 6]\n",
      "[2, 4, 8, 2, 1, 3, 0, 7, 4, 4, 0, 2, 4, 8, 0, 0, 4, 9, 6, 0, 0, 0, 5, 2, 8, 2, 4]\n",
      "[6, 0, 2, 2, 7, 8, 4, 8, 1, 6, 4, 2, 1, 4, 0, 1, 2, 0, 4, 0, 0, 1, 6, 7, 3, 5, 6]\n",
      "[9, 7, 8, 4, 7, 7, 6, 8, 4, 6, 6, 8, 4, 6, 0, 3, 9, 1, 2, 0, 0, 4, 6, 6, 5, 0, 6]\n",
      "[4, 5, 3, 1, 8, 2, 0, 9, 0, 6, 3, 6, 2, 4, 0, 0, 4, 5, 3, 0, 0, 0, 8, 2, 4, 4, 6]\n",
      "[3, 0, 4, 1, 3, 1, 0, 3, 0, 4, 0, 9, 1, 2, 0, 0, 3, 0, 4, 0, 0, 0, 3, 9, 8, 2, 4]\n",
      "[1, 5, 2, 7, 5, 3, 0, 4, 5, 6, 0, 7, 6, 0, 0, 1, 0, 6, 4, 0, 0, 1, 1, 4, 4, 5, 6]\n"
     ]
    }
   ],
   "source": [
    "def random_long_mul_instance(length):\n",
    "    a = [random.randint(0,9) for i in range(length)]\n",
    "    b = [random.randint(0,9) for i in range(length)]\n",
    "\n",
    "    def str_c(t):\n",
    "        stage, max_c = t\n",
    "        s_c = str(stage)\n",
    "        return (max_c - len(s_c)) * '0' + s_c\n",
    "\n",
    "    val_a = int(''.join(str(d) for d in a))\n",
    "    val_b = int(''.join(str(d) for d in b))\n",
    "    val_c = val_a * val_b\n",
    "    \n",
    "    c_stage_1 = val_a * (val_b % 10)\n",
    "    c_stage_2 = val_a * ((val_b // 10) % 10)\n",
    "    c_stage_3 = val_a * ((val_b // 100) % 10)\n",
    "\n",
    "    res = ''.join(map(str_c, [(c_stage_1, 4), (c_stage_2*10, 5), (c_stage_3*100, 6), (val_c, 6)]))\n",
    "\n",
    "    return a + b + [int(d) for d in res]\n",
    "\n",
    "for i in range(10):\n",
    "    print (random_long_mul_instance(3))"
   ]
  },
  {
   "cell_type": "code",
   "execution_count": 20,
   "metadata": {},
   "outputs": [],
   "source": [
    "class MultLongDataset(Dataset):\n",
    "    \"\"\" \n",
    "    Dataset for the Mult problem. E.g. for problem length 3:\n",
    "    12 * 333 = 3996\n",
    "    Input: 0 1 2 3 3 3 -> Output: 0 0 3 9 9 6\n",
    "    Which will feed into the transformer concatenated as:\n",
    "    input:  0 1 2 3 3 3 0 3 4\n",
    "    output: I I I 0 0 3 9 9 6\n",
    "    where I is \"ignore\", as the transformer is reading the input sequence\n",
    "    \"\"\"\n",
    "\n",
    "    def __init__(self, split, length=3):\n",
    "        assert split in {'train', 'test'}\n",
    "        self.split = split\n",
    "        self.length = length\n",
    "    \n",
    "    def __len__(self):\n",
    "        return 20 # ...\n",
    "    \n",
    "    def get_vocab_size(self):\n",
    "        return 10\n",
    "    \n",
    "    def get_block_size(self):\n",
    "        # the length of the sequence that will feed into transformer, \n",
    "        # containing concatenated input and the output, but -1 because\n",
    "        # the transformer starts making predictions at the last input element\n",
    "        return 2 * self.length + (((self.length + 1 + 2*self.length) * self.length) // 2) + 2 * self.length\n",
    "\n",
    "    def __getitem__(self, idx):\n",
    "        while True:\n",
    "            rai = random_long_mul_instance(self.length)\n",
    "            h = hash(str(rai[:2*self.length]))\n",
    "            \n",
    "            inp_split = 'test' if h % 4 == 0 else 'train' # designate 25% of examples as test\n",
    "            if inp_split == self.split:\n",
    "                break # ok\n",
    "        \n",
    "        x = torch.tensor(rai[:-1], dtype=torch.long)\n",
    "        y = torch.tensor(rai[1:], dtype=torch.long)\n",
    "        \n",
    "        # we only want to predict at output locations, mask out the loss at the input locations\n",
    "        y[:2*self.length - 1] = -1\n",
    "        return x, y"
   ]
  },
  {
   "cell_type": "code",
   "execution_count": 1,
   "metadata": {},
   "outputs": [
    {
     "ename": "NameError",
     "evalue": "name 'MultLongDataset' is not defined",
     "output_type": "error",
     "traceback": [
      "\u001b[0;31m---------------------------------------------------------------------------\u001b[0m",
      "\u001b[0;31mNameError\u001b[0m                                 Traceback (most recent call last)",
      "Cell \u001b[0;32mIn[1], line 2\u001b[0m\n\u001b[1;32m      1\u001b[0m \u001b[38;5;66;03m# print an example instance of the dataset\u001b[39;00m\n\u001b[0;32m----> 2\u001b[0m train_dataset \u001b[38;5;241m=\u001b[39m \u001b[43mMultLongDataset\u001b[49m(\u001b[38;5;124m'\u001b[39m\u001b[38;5;124mtrain\u001b[39m\u001b[38;5;124m'\u001b[39m)\n\u001b[1;32m      3\u001b[0m test_dataset \u001b[38;5;241m=\u001b[39m MultLongDataset(\u001b[38;5;124m'\u001b[39m\u001b[38;5;124mtest\u001b[39m\u001b[38;5;124m'\u001b[39m)\n\u001b[1;32m      5\u001b[0m \u001b[38;5;28;01mfor\u001b[39;00m i \u001b[38;5;129;01min\u001b[39;00m train_dataset:\n",
      "\u001b[0;31mNameError\u001b[0m: name 'MultLongDataset' is not defined"
     ]
    }
   ],
   "source": [
    "# print an example instance of the dataset\n",
    "train_dataset = MultLongDataset('train')\n",
    "test_dataset = MultLongDataset('test')\n",
    "\n",
    "for i in train_dataset:\n",
    "    print (i)\n",
    "x, y = train_dataset[0]\n",
    "\n",
    "print(len(train_dataset))\n",
    "\n",
    "print (x)\n",
    "for a, b in zip(x,y):\n",
    "    print(int(a),int(b))"
   ]
  },
  {
   "cell_type": "code",
   "execution_count": 22,
   "metadata": {},
   "outputs": [
    {
     "name": "stdout",
     "output_type": "stream",
     "text": [
      "number of parameters: 0.80M\n"
     ]
    }
   ],
   "source": [
    "# create a GPT instance\n",
    "\n",
    "model_config = GPT.get_default_config()\n",
    "model_config.model_type = 'gpt-micro'\n",
    "#model_config.model_type = 'gpt-nano'\n",
    "\n",
    "model_config.vocab_size = train_dataset.get_vocab_size()\n",
    "model_config.block_size = train_dataset.get_block_size()\n",
    "model = GPT(model_config)"
   ]
  },
  {
   "cell_type": "code",
   "execution_count": 23,
   "metadata": {},
   "outputs": [
    {
     "name": "stdout",
     "output_type": "stream",
     "text": [
      "4 4 128\n"
     ]
    }
   ],
   "source": [
    "print (model_config.n_head, model_config.n_layer, model_config.n_embd)"
   ]
  },
  {
   "cell_type": "code",
   "execution_count": 24,
   "metadata": {},
   "outputs": [
    {
     "name": "stdout",
     "output_type": "stream",
     "text": [
      "running on device cuda\n"
     ]
    }
   ],
   "source": [
    "# create a Trainer object\n",
    "\n",
    "train_config = Trainer.get_default_config()\n",
    "train_config.learning_rate = 5e-4 # the model we're using is so small that we can go a bit faster\n",
    "train_config.max_iters = 10000\n",
    "train_config.num_workers = 0\n",
    "trainer = Trainer(train_config, model, train_dataset)"
   ]
  },
  {
   "cell_type": "code",
   "execution_count": 25,
   "metadata": {},
   "outputs": [
    {
     "name": "stdout",
     "output_type": "stream",
     "text": [
      "iter_dt 0.00ms; iter 0: train loss 2.36801\n",
      "iter_dt 16.80ms; iter 100: train loss 1.42925\n",
      "iter_dt 15.49ms; iter 200: train loss 1.21153\n",
      "iter_dt 14.82ms; iter 300: train loss 0.95736\n",
      "iter_dt 16.02ms; iter 400: train loss 0.84157\n",
      "iter_dt 22.30ms; iter 500: train loss 0.68790\n",
      "iter_dt 15.19ms; iter 600: train loss 0.66285\n",
      "iter_dt 19.38ms; iter 700: train loss 0.53967\n",
      "iter_dt 16.11ms; iter 800: train loss 0.46876\n",
      "iter_dt 17.43ms; iter 900: train loss 0.41489\n",
      "iter_dt 17.40ms; iter 1000: train loss 0.38700\n",
      "iter_dt 25.45ms; iter 1100: train loss 0.33108\n",
      "iter_dt 15.80ms; iter 1200: train loss 0.31181\n",
      "iter_dt 17.68ms; iter 1300: train loss 0.26817\n",
      "iter_dt 16.17ms; iter 1400: train loss 0.25537\n",
      "iter_dt 22.25ms; iter 1500: train loss 0.24916\n",
      "iter_dt 18.00ms; iter 1600: train loss 0.22479\n",
      "iter_dt 16.07ms; iter 1700: train loss 0.19845\n",
      "iter_dt 15.32ms; iter 1800: train loss 0.21958\n",
      "iter_dt 20.53ms; iter 1900: train loss 0.19916\n",
      "iter_dt 16.77ms; iter 2000: train loss 0.17082\n",
      "iter_dt 16.92ms; iter 2100: train loss 0.15129\n",
      "iter_dt 15.91ms; iter 2200: train loss 0.16500\n",
      "iter_dt 17.61ms; iter 2300: train loss 0.17545\n",
      "iter_dt 17.11ms; iter 2400: train loss 0.11572\n",
      "iter_dt 15.27ms; iter 2500: train loss 0.12794\n",
      "iter_dt 20.61ms; iter 2600: train loss 0.10380\n",
      "iter_dt 14.60ms; iter 2700: train loss 0.11417\n",
      "iter_dt 16.39ms; iter 2800: train loss 0.12417\n",
      "iter_dt 17.27ms; iter 2900: train loss 0.14346\n",
      "iter_dt 17.11ms; iter 3000: train loss 0.10490\n",
      "iter_dt 15.52ms; iter 3100: train loss 0.10958\n",
      "iter_dt 15.44ms; iter 3200: train loss 0.10150\n",
      "iter_dt 16.47ms; iter 3300: train loss 0.10968\n",
      "iter_dt 16.12ms; iter 3400: train loss 0.09724\n",
      "iter_dt 17.53ms; iter 3500: train loss 0.13318\n",
      "iter_dt 23.56ms; iter 3600: train loss 0.09526\n",
      "iter_dt 23.91ms; iter 3700: train loss 0.07636\n",
      "iter_dt 15.54ms; iter 3800: train loss 0.08680\n",
      "iter_dt 16.23ms; iter 3900: train loss 0.08690\n",
      "iter_dt 18.55ms; iter 4000: train loss 0.08113\n",
      "iter_dt 20.44ms; iter 4100: train loss 0.08303\n",
      "iter_dt 16.11ms; iter 4200: train loss 0.07744\n",
      "iter_dt 16.36ms; iter 4300: train loss 0.08817\n",
      "iter_dt 15.20ms; iter 4400: train loss 0.09061\n",
      "iter_dt 16.72ms; iter 4500: train loss 0.09848\n",
      "iter_dt 15.38ms; iter 4600: train loss 0.08734\n",
      "iter_dt 19.19ms; iter 4700: train loss 0.07704\n",
      "iter_dt 19.88ms; iter 4800: train loss 0.07446\n",
      "iter_dt 21.80ms; iter 4900: train loss 0.08158\n",
      "iter_dt 18.28ms; iter 5000: train loss 0.06815\n",
      "iter_dt 20.12ms; iter 5100: train loss 0.06660\n",
      "iter_dt 20.87ms; iter 5200: train loss 0.08069\n",
      "iter_dt 17.81ms; iter 5300: train loss 0.08203\n",
      "iter_dt 28.60ms; iter 5400: train loss 0.07071\n",
      "iter_dt 19.03ms; iter 5500: train loss 0.07460\n",
      "iter_dt 18.45ms; iter 5600: train loss 0.06714\n",
      "iter_dt 20.62ms; iter 5700: train loss 0.06362\n",
      "iter_dt 18.76ms; iter 5800: train loss 0.06004\n",
      "iter_dt 31.44ms; iter 5900: train loss 0.06906\n",
      "iter_dt 16.16ms; iter 6000: train loss 0.07513\n",
      "iter_dt 27.80ms; iter 6100: train loss 0.08527\n",
      "iter_dt 16.27ms; iter 6200: train loss 0.04890\n",
      "iter_dt 19.35ms; iter 6300: train loss 0.05714\n",
      "iter_dt 19.88ms; iter 6400: train loss 0.06539\n",
      "iter_dt 16.63ms; iter 6500: train loss 0.07202\n",
      "iter_dt 16.85ms; iter 6600: train loss 0.06944\n",
      "iter_dt 25.04ms; iter 6700: train loss 0.05147\n",
      "iter_dt 24.83ms; iter 6800: train loss 0.05384\n",
      "iter_dt 26.90ms; iter 6900: train loss 0.05132\n",
      "iter_dt 19.88ms; iter 7000: train loss 0.05836\n",
      "iter_dt 19.09ms; iter 7100: train loss 0.03627\n",
      "iter_dt 18.52ms; iter 7200: train loss 0.03763\n",
      "iter_dt 18.63ms; iter 7300: train loss 0.06370\n",
      "iter_dt 24.97ms; iter 7400: train loss 0.04429\n",
      "iter_dt 17.57ms; iter 7500: train loss 0.05307\n",
      "iter_dt 18.18ms; iter 7600: train loss 0.07206\n",
      "iter_dt 17.68ms; iter 7700: train loss 0.04276\n",
      "iter_dt 19.35ms; iter 7800: train loss 0.06775\n",
      "iter_dt 25.82ms; iter 7900: train loss 0.05573\n",
      "iter_dt 16.92ms; iter 8000: train loss 0.04267\n",
      "iter_dt 28.20ms; iter 8100: train loss 0.04227\n",
      "iter_dt 22.45ms; iter 8200: train loss 0.05325\n",
      "iter_dt 17.18ms; iter 8300: train loss 0.05902\n",
      "iter_dt 31.50ms; iter 8400: train loss 0.04186\n",
      "iter_dt 28.35ms; iter 8500: train loss 0.04385\n",
      "iter_dt 29.50ms; iter 8600: train loss 0.06054\n",
      "iter_dt 18.94ms; iter 8700: train loss 0.03458\n",
      "iter_dt 22.69ms; iter 8800: train loss 0.03817\n",
      "iter_dt 17.15ms; iter 8900: train loss 0.03814\n",
      "iter_dt 17.70ms; iter 9000: train loss 0.04474\n",
      "iter_dt 28.43ms; iter 9100: train loss 0.05116\n",
      "iter_dt 16.96ms; iter 9200: train loss 0.04479\n",
      "iter_dt 16.25ms; iter 9300: train loss 0.06422\n",
      "iter_dt 17.63ms; iter 9400: train loss 0.05874\n",
      "iter_dt 24.34ms; iter 9500: train loss 0.04606\n",
      "iter_dt 18.57ms; iter 9600: train loss 0.05179\n",
      "iter_dt 15.28ms; iter 9700: train loss 0.03606\n",
      "iter_dt 17.20ms; iter 9800: train loss 0.04524\n",
      "iter_dt 15.63ms; iter 9900: train loss 0.04569\n"
     ]
    }
   ],
   "source": [
    "def batch_end_callback(trainer):\n",
    "    if trainer.iter_num % 100 == 0:\n",
    "        print(f\"iter_dt {trainer.iter_dt * 1000:.2f}ms; iter {trainer.iter_num}: train loss {trainer.loss.item():.5f}\")\n",
    "trainer.set_callback('on_batch_end', batch_end_callback)\n",
    "\n",
    "trainer.run()"
   ]
  },
  {
   "cell_type": "code",
   "execution_count": 26,
   "metadata": {},
   "outputs": [],
   "source": [
    "# now let's perform some evaluation\n",
    "model.eval()\n",
    "None"
   ]
  },
  {
   "cell_type": "code",
   "execution_count": 27,
   "metadata": {},
   "outputs": [
    {
     "name": "stdout",
     "output_type": "stream",
     "text": [
      "train final score: 18/20 = 90.00% correct\n",
      "test final score: 19/20 = 95.00% correct\n"
     ]
    }
   ],
   "source": [
    "def eval_long_mult_split(trainer, split, max_batches):\n",
    "    dataset = {'train':train_dataset, 'test':test_dataset}[split]\n",
    "    n = train_dataset.length # naugy direct access shrug\n",
    "    results = []\n",
    "    mistakes_printed_already = 0\n",
    "    loader = DataLoader(dataset, batch_size=100, num_workers=0, drop_last=False)\n",
    "    #loader = DataLoader(dataset, batch_size=1, num_workers=0, drop_last=False)\n",
    "    for b, (x, y) in enumerate(loader):\n",
    "        x = x.to(trainer.device)\n",
    "        y = y.to(trainer.device)\n",
    "\n",
    "        inp = x[:, :2*n]\n",
    "        sol = y[:, -2*n:]\n",
    "        \n",
    "        cat = model.generate(inp, (2*n + (((3*n + 1) * n) // 2)), do_sample=False) # using greedy argmax, not sampling\n",
    "        sol_candidate = cat[:, -2*n:]         \n",
    "        correct = (sol == sol_candidate).all(1).cpu() \n",
    "        for i in range(x.size(0)):\n",
    "            results.append(int(correct[i]))\n",
    "    \n",
    "    rt = torch.tensor(results, dtype=torch.float)\n",
    "    print(\"%s final score: %d/%d = %.2f%% correct\" % (split, rt.sum(), len(results), 100*rt.mean()))\n",
    "    return rt.sum()\n",
    "\n",
    "# run a lot of examples from both train and test through the model and verify the output correctness\n",
    "with torch.no_grad():\n",
    "    train_score = eval_long_mult_split(trainer, 'train', max_batches=50)\n",
    "    test_score  = eval_long_mult_split(trainer, 'test',  max_batches=50)"
   ]
  },
  {
   "cell_type": "code",
   "execution_count": null,
   "metadata": {},
   "outputs": [],
   "source": []
  }
 ],
 "metadata": {
  "kernelspec": {
   "display_name": "Python 3 (ipykernel)",
   "language": "python",
   "name": "python3"
  },
  "language_info": {
   "codemirror_mode": {
    "name": "ipython",
    "version": 3
   },
   "file_extension": ".py",
   "mimetype": "text/x-python",
   "name": "python",
   "nbconvert_exporter": "python",
   "pygments_lexer": "ipython3",
   "version": "3.12.7"
  },
  "vscode": {
   "interpreter": {
    "hash": "3ad933181bd8a04b432d3370b9dc3b0662ad032c4dfaa4e4f1596c548f763858"
   }
  }
 },
 "nbformat": 4,
 "nbformat_minor": 4
}
